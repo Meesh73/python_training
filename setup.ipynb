{
 "cells": [
  {
   "cell_type": "markdown",
   "metadata": {},
   "source": [
    "# Setup Instructions\n",
    "\n",
    "To follow along with the lessons in this repository you'll need to use a tool called Jupyter notebooks. Jupyter can be installed by itself in python using pip, but the easiest way to get access to them is to install the Anaconda distribution of python. Anaconda will also install a lot of useful libraries that might save you time later.\n",
    "\n",
    "Download the Anaconda installer from https://www.anaconda.com/distribution/#download-section\n",
    "\n",
    "Select the Python 3.7 option.\n",
    "\n",
    "When installing, install for Just Me. You can install for All Users if the installer complains about spaces in your home folder name and if you have admin rights on your system\n",
    "\n",
    "\n",
    "After installation is complete you should have a start menu folder called Anaconda3.\n",
    "\n",
    "Open the Anaconda Prompt from that folder and run the following command:\n",
    "\n",
    "```\n",
    "conda install -c conda-forge jupyter_contrib_nbextensions\n",
    "```\n",
    "\n",
    "This will install some useful notebook extensions like a spellchecker and add a way to enable them from within jupyter.\n",
    "\n",
    "If you launch Jupyter Notebook from the start menu it will set your home directory as the root of the directory tree and open a web browser to your home folder. Th\n",
    "\n",
    "\n",
    "\n",
    "You can launch Jupyter Notebook from the start menu now, or if you would prefer you can use the command line to change directories to a specific folder where you've placed the lessons and run the command jupyter notebook from there. That will make it easier to find your notebook files."
   ]
  }
 ],
 "metadata": {
  "kernelspec": {
   "display_name": "Python 3",
   "language": "python",
   "name": "python3"
  },
  "language_info": {
   "codemirror_mode": {
    "name": "ipython",
    "version": 3
   },
   "file_extension": ".py",
   "mimetype": "text/x-python",
   "name": "python",
   "nbconvert_exporter": "python",
   "pygments_lexer": "ipython3",
   "version": "3.8.2"
  }
 },
 "nbformat": 4,
 "nbformat_minor": 2
}
